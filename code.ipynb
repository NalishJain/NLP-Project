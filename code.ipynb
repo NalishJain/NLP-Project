{
 "cells": [
  {
   "cell_type": "code",
   "execution_count": 2,
   "metadata": {},
   "outputs": [],
   "source": [
    "import numpy as np\n",
    "import pandas as pd"
   ]
  },
  {
   "cell_type": "code",
   "execution_count": 4,
   "metadata": {},
   "outputs": [],
   "source": [
    "train_data = np.load(\"data/SP-train.npy\", allow_pickle=True)\n",
    "test_data = np.load(\"data/SP_eval_data_for_practice.npy\", allow_pickle = True)"
   ]
  },
  {
   "cell_type": "code",
   "execution_count": 6,
   "metadata": {},
   "outputs": [
    {
     "name": "stdout",
     "output_type": "stream",
     "text": [
      "(507,) (120,)\n"
     ]
    },
    {
     "data": {
      "text/plain": [
       "{'id': 'SP-0',\n",
       " 'question': 'Mr. and Mrs. Mustard have six daughters and each daughter has one brother. But there are only 9 people in the family, how is that possible?',\n",
       " 'answer': 'Each daughter shares the same brother.',\n",
       " 'distractor1': 'Some daughters get married and have their own family.',\n",
       " 'distractor2': 'Some brothers were not loved by family and moved away.',\n",
       " 'distractor(unsure)': 'None of above.',\n",
       " 'label': 1,\n",
       " 'choice_list': ['Some daughters get married and have their own family.',\n",
       "  'Each daughter shares the same brother.',\n",
       "  'Some brothers were not loved by family and moved away.',\n",
       "  'None of above.'],\n",
       " 'choice_order': [1, 0, 2, 3]}"
      ]
     },
     "execution_count": 6,
     "metadata": {},
     "output_type": "execute_result"
    }
   ],
   "source": [
    "print(train_data.shape, test_data.shape)\n",
    "train_data[0]"
   ]
  }
 ],
 "metadata": {
  "kernelspec": {
   "display_name": "Python 3",
   "language": "python",
   "name": "python3"
  },
  "language_info": {
   "codemirror_mode": {
    "name": "ipython",
    "version": 3
   },
   "file_extension": ".py",
   "mimetype": "text/x-python",
   "name": "python",
   "nbconvert_exporter": "python",
   "pygments_lexer": "ipython3",
   "version": "3.10.10"
  }
 },
 "nbformat": 4,
 "nbformat_minor": 2
}
