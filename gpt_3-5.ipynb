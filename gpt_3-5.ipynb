{
 "cells": [
  {
   "cell_type": "code",
   "execution_count": 3,
   "metadata": {},
   "outputs": [
    {
     "name": "stdout",
     "output_type": "stream",
     "text": [
      "Requirement already satisfied: openai in ./.venv/lib/python3.10/site-packages (0.28.0)\n",
      "Requirement already satisfied: requests>=2.20 in ./.venv/lib/python3.10/site-packages (from openai) (2.31.0)\n",
      "Requirement already satisfied: tqdm in ./.venv/lib/python3.10/site-packages (from openai) (4.66.2)\n",
      "Requirement already satisfied: aiohttp in ./.venv/lib/python3.10/site-packages (from openai) (3.9.5)\n",
      "Requirement already satisfied: charset-normalizer<4,>=2 in ./.venv/lib/python3.10/site-packages (from requests>=2.20->openai) (3.3.2)\n",
      "Requirement already satisfied: idna<4,>=2.5 in ./.venv/lib/python3.10/site-packages (from requests>=2.20->openai) (3.6)\n",
      "Requirement already satisfied: urllib3<3,>=1.21.1 in ./.venv/lib/python3.10/site-packages (from requests>=2.20->openai) (2.2.1)\n",
      "Requirement already satisfied: certifi>=2017.4.17 in ./.venv/lib/python3.10/site-packages (from requests>=2.20->openai) (2024.2.2)\n",
      "Requirement already satisfied: aiosignal>=1.1.2 in ./.venv/lib/python3.10/site-packages (from aiohttp->openai) (1.3.1)\n",
      "Requirement already satisfied: attrs>=17.3.0 in ./.venv/lib/python3.10/site-packages (from aiohttp->openai) (23.2.0)\n",
      "Requirement already satisfied: frozenlist>=1.1.1 in ./.venv/lib/python3.10/site-packages (from aiohttp->openai) (1.4.1)\n",
      "Requirement already satisfied: multidict<7.0,>=4.5 in ./.venv/lib/python3.10/site-packages (from aiohttp->openai) (6.0.5)\n",
      "Requirement already satisfied: yarl<2.0,>=1.0 in ./.venv/lib/python3.10/site-packages (from aiohttp->openai) (1.9.4)\n",
      "Requirement already satisfied: async-timeout<5.0,>=4.0 in ./.venv/lib/python3.10/site-packages (from aiohttp->openai) (4.0.3)\n"
     ]
    }
   ],
   "source": [
    "!pip install openai"
   ]
  },
  {
   "cell_type": "code",
   "execution_count": 13,
   "metadata": {},
   "outputs": [],
   "source": [
    "import openai\n",
    "from torch.utils.data import Dataset, DataLoader\n",
    "from sklearn.model_selection import train_test_split\n",
    "import numpy as np\n",
    "import time\n",
    "from sklearn.metrics import accuracy_score\n"
   ]
  },
  {
   "cell_type": "code",
   "execution_count": 2,
   "metadata": {},
   "outputs": [],
   "source": [
    "openai.api_key = \"sk\"\n"
   ]
  },
  {
   "cell_type": "code",
   "execution_count": 3,
   "metadata": {},
   "outputs": [],
   "source": [
    "def get_data_lists(data):\n",
    "    questions = []\n",
    "    choices = []\n",
    "    labels = []\n",
    "    for example in data:\n",
    "        # print(example.keys())\n",
    "        questions.append(example['question'])\n",
    "        choices.append(example['choice_list'])\n",
    "        labels.append(example['label'])\n",
    "    return questions, choices, labels\n",
    "\n",
    "class Brain_Teaser(Dataset):\n",
    "  def __init__(self, questions, choices, labels, max_len=512):\n",
    "    self.questions = questions\n",
    "    self.choices = choices\n",
    "    self.labels = labels\n",
    "\n",
    "    self.max_len = max_len\n",
    "    self.inputs = []\n",
    "    self.targets = []\n",
    "    self.question_options_encoded = []\n",
    "\n",
    "    self.build_questions()\n",
    "  \n",
    "  def build_questions(self):\n",
    "    maxi = 0\n",
    "    for id in range(len(self.questions)):\n",
    "      question_options = \"Question : \" + self.questions[id] + ' ' + \"Options 0:\" + ' ' + self.choices[id][0] + ' Options 1: ' + self.choices[id][1] + ' Options 2: ' + self.choices[id][2] + ' Options 3: ' + self.choices[id][3]\n",
    "    #   maxi = max(maxi, len(question_options.split(' ')))\n",
    "    #   self.question_options_encoded.append(self.tokenizer(question_options, return_tensors=\"pt\", max_length = 205, padding=\"max_length\", truncation=True, add_special_tokens = True))\n",
    "      self.question_options_encoded.append(question_options)\n",
    "\n",
    "  def __len__(self):\n",
    "    return len(self.question_options_encoded)\n",
    "  \n",
    "  def __getitem__(self, id):\n",
    "    return self.question_options_encoded[id],  self.labels[id] "
   ]
  },
  {
   "cell_type": "code",
   "execution_count": 4,
   "metadata": {},
   "outputs": [],
   "source": [
    "train_data = np.load(\"data/SP-train.npy\", allow_pickle=True)\n",
    "test_data = np.load(\"data/SP_eval_data_for_practice.npy\", allow_pickle = True)\n",
    "\n",
    "train_data, val_data = train_test_split(train_data, test_size=0.1, random_state=42)\n",
    "train_questions, train_choices, train_labels = get_data_lists(train_data)\n",
    "val_questions, val_choices, val_labels = get_data_lists(val_data)\n",
    "train_dataset = Brain_Teaser(train_questions, train_choices, train_labels)\n",
    "val_dataset = Brain_Teaser(val_questions, val_choices, val_labels)\n",
    "\n"
   ]
  },
  {
   "cell_type": "code",
   "execution_count": 5,
   "metadata": {},
   "outputs": [
    {
     "name": "stdout",
     "output_type": "stream",
     "text": [
      "51\n"
     ]
    }
   ],
   "source": [
    "print(len(val_dataset))"
   ]
  },
  {
   "cell_type": "code",
   "execution_count": 8,
   "metadata": {},
   "outputs": [
    {
     "name": "stdout",
     "output_type": "stream",
     "text": [
      "ChatGPT: Option 0: He is a coach. 0 0\n",
      "ChatGPT: Option 0: It didn't because roosters don't lay eggs. 0 1\n",
      "ChatGPT: 1 1 2\n",
      "ChatGPT: Option 0: The lake was frozen, none of the men got wet despite sinking to the bottom. 1 3\n",
      "ChatGPT: Option 1: He is bald. 1 4\n",
      "ChatGPT: Option 1: The horse operates a mill and travels in a circular clockwise direction. The two outside legs will travel a greater distance than the two inside legs. 1 5\n",
      "ChatGPT: The correct option is: 0: The men were miners. 1 6\n",
      "ChatGPT: Option 2: Twenty-five dollars 1 7\n",
      "ChatGPT: Option 3: None of above.\n",
      "\n",
      "Explanation: Fish do not drown, perish, or swim away like humans. Therefore, all ten fish would still be left in the tank. 3 8\n",
      "ChatGPT: Option 0: EACH is the name of one of the men. 0 9\n",
      "ChatGPT: Option 3: None of above 3 10\n",
      "ChatGPT: Option 1: One girl is polite and returns her apple back. 2 11\n",
      "ChatGPT: Option 1: Andy has to use the shovel to create a pile of dirt under the window so he can climb up onto it and escape from the cell. 1 12\n",
      "ChatGPT: Option 0: By moving towards the train momentarily, the man minimizes the risk of being hit directly by the front of the train. 1 13\n",
      "ChatGPT: Option 0: Jimy was the name of the fighter-jet that was flying over enemy's territory. 0 14\n",
      "ChatGPT: Option 0: The woman's name is April. 0 15\n",
      "ChatGPT: Option 2: The glass was filled, but not with water. 2 16\n",
      "ChatGPT: Option 1: Infinite. 2 17\n",
      "ChatGPT: Option 3: None of above. 3 18\n",
      "ChatGPT: Option 0: The man is a boxer and he was just playing a box match. He won and he's leaving the hall right now. 0 19\n",
      "ChatGPT: Option 3: None of above. 3 20\n",
      "ChatGPT: Option 0: There is no basement in a one-story house built on a single floor. 0 21\n",
      "ChatGPT: Option 0: It was a Submarine. 0 22\n",
      "ChatGPT: Option 2: EACH is the name of one of the men. 2 23\n",
      "ChatGPT: Option 2: All the people on the flight were female. 2 24\n",
      "ChatGPT: Option 1: She has a class with 30 students and every day she distributes small quiz papers and in the evening she grades them 1 25\n",
      "ChatGPT: Option 0: By moving towards the oncoming train, the man's brain interprets the change in distance and relative motion as a decrease in speed. 2 26\n",
      "ChatGPT: Option 3: None of above. 0 27\n",
      "ChatGPT: Option 3: None of the above. 3 28\n",
      "ChatGPT: Option 0: There are no stairs in a single-story house. 0 29\n",
      "ChatGPT: The correct option is:\n",
      "\n",
      "Option 0: He's a barber. 0 30\n",
      "ChatGPT: Option 1: Robert burried one silver sphere in the start of the bridge and made sure the location was private enough that no one could find is the correct option. 0 31\n",
      "ChatGPT: Since the woman is living in Canada, she cannot be buried in the USA due to legal reasons related to her residency status. So, the correct option is 0: Because she didn't have a visa. 1 32\n",
      "ChatGPT: Option 2: The watchman was fired for not warning the woman in advance. 1 33\n",
      "ChatGPT: Solution: The total number of ducks is 27. Five ducks got lost, thirteen ducks are staying home, and nine ducks are at the pond. \n",
      "\n",
      "Therefore, the rest of the ducks are already considered in these categories, so the answer is:\n",
      "\n",
      "Option 3: None of the above. 3 34\n",
      "ChatGPT: Option 0: Eye glasses store. 0 35\n",
      "ChatGPT: Option 0: Each player shares the same coach. 0 36\n",
      "ChatGPT: Option 0: The computer is a wooden pencil with an eraser. 0 37\n",
      "ChatGPT: I predict the correct option is : ```2```  2 38\n",
      "ChatGPT: I predict the correct option is Option 0: Because they were all married and not single. 0 39\n",
      "ChatGPT: I predict the correct option is Option 0: The current is moving east, the bubbles would be carried by the current towards the west. 2 40\n",
      "ChatGPT: Option 0: Their cars have different heights that can drive beyond each other. 2 41\n",
      "ChatGPT: Option 0: It was day time. 0 42\n",
      "ChatGPT: Option 0: Matthew is a deep-sea diver. 0 43\n",
      "ChatGPT: Option 2: The beggar was the man's sister. 2 44\n",
      "ChatGPT: Option 2: The envelope glue was poisoned and when the man licked the envelope to seal it, he died. 2 45\n",
      "ChatGPT: Option 2: The man wasn't tall enough to reach the button for the 20th floor. He could only reach the 15th story button on the elevator. When it rained, he brought his umbrella, and used it to press the 20th story button on the elevator. 2 46\n",
      "ChatGPT: Option 0: The animal is the Mule. Since all Mules are born sterile, you can only get a Mule by crossing a donkey with a horse. 0 47\n",
      "ChatGPT: Option 3: None of above 3 48\n",
      "ChatGPT: The correct option is: 1: Each daughter shares the same brother. 1 49\n",
      "ChatGPT: Option 1: Hand over the final bean to the seventh sorcerer without removing it from the vase. 1 50\n"
     ]
    }
   ],
   "source": [
    "targets = []\n",
    "predictions = []\n",
    "for step in range(len(val_dataset)):\n",
    "    messages = [\n",
    "        {\"role\": \"system\", \"content\": \"You are a MCQ solver based on the question and options, you predict the correct option id from 0,1,2,3\"},\n",
    "    ]\n",
    "    \n",
    "    # Delay for 20 seconds\n",
    "    time.sleep(18)\n",
    "    \n",
    "    query = val_dataset[step]\n",
    "    # print(query)\n",
    "    messages.append(\n",
    "        {\"role\": \"user\", \"content\": query[0]},\n",
    "    )\n",
    "    chat = openai.ChatCompletion.create(\n",
    "        model=\"gpt-3.5-turbo\", messages=messages\n",
    "    )    \n",
    "    reply = chat.choices[0].message.content\n",
    "    targets.append(query[1])\n",
    "    predictions.append(reply)\n",
    "\n",
    "    print(f\"ChatGPT: {reply}\", query[1], step)\n",
    "    \n"
   ]
  },
  {
   "cell_type": "code",
   "execution_count": 14,
   "metadata": {},
   "outputs": [
    {
     "name": "stdout",
     "output_type": "stream",
     "text": [
      "Accuracy: 0.7254901960784313\n"
     ]
    }
   ],
   "source": [
    "import re\n",
    "\n",
    "numeric_pred = []\n",
    "for text in predictions:\n",
    "    numeric_pred.append(int(re.findall(r'\\d+', text)[0]))\n",
    "\n",
    "accuracy = accuracy_score(targets, numeric_pred)\n",
    "\n",
    "print(\"Accuracy:\", accuracy)"
   ]
  }
 ],
 "metadata": {
  "kernelspec": {
   "display_name": ".venv",
   "language": "python",
   "name": "python3"
  },
  "language_info": {
   "codemirror_mode": {
    "name": "ipython",
    "version": 3
   },
   "file_extension": ".py",
   "mimetype": "text/x-python",
   "name": "python",
   "nbconvert_exporter": "python",
   "pygments_lexer": "ipython3",
   "version": "3.10.10"
  }
 },
 "nbformat": 4,
 "nbformat_minor": 2
}
